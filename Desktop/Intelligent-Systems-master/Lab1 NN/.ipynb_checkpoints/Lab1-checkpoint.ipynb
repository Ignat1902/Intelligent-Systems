{
 "cells": [
  {
   "cell_type": "markdown",
   "id": "8cc22127-883a-477a-b274-e7e52d7e4831",
   "metadata": {
    "tags": []
   },
   "source": [
    "## Задание на лабораторную работу"
   ]
  },
  {
   "cell_type": "markdown",
   "id": "c8e9ecab-0db2-450f-9b49-54c71fc9212d",
   "metadata": {},
   "source": [
    "Реализовать классификацию сортов растения ирис (Iris Setosa - 0, Iris Versicolour - 1, Iris\n",
    "Virginica - 2) по четырем признакам: размерам пестиков и тычинок его цветков."
   ]
  },
  {
   "cell_type": "markdown",
   "id": "4ecb6778-2213-4e0a-80e8-993c2bde4cd7",
   "metadata": {},
   "source": [
    "## Выполнение работы"
   ]
  },
  {
   "cell_type": "markdown",
   "id": "b739ac3b-43db-4bd3-8a5e-87c4033b588c",
   "metadata": {},
   "source": [
    "Поключаем модули"
   ]
  },
  {
   "cell_type": "code",
   "execution_count": 10,
   "id": "3db60031-1c5a-443a-a121-a465b42feebb",
   "metadata": {
    "tags": []
   },
   "outputs": [],
   "source": [
    "import pandas\n",
    "import matplotlib.pyplot as plt \n",
    "from tensorflow.keras.layers import Dense\n",
    "from tensorflow.keras.models import Sequential\n",
    "from tensorflow.keras.utils import to_categorical\n",
    "from sklearn.preprocessing import LabelEncoder"
   ]
  },
  {
   "cell_type": "markdown",
   "id": "fa9a32a4-c748-4e28-ac39-615fddca7d3e",
   "metadata": {},
   "source": [
    "Набор данных загружается с помощью библиотеки Pandas. После загрузки данных из файла ```python dataframe = pandas.read_csv(\"iris.csv\", header=None)``` , необходимо разделить столбцы на входные данные (X) и выходные данные (Y)."
   ]
  },
  {
   "cell_type": "code",
   "execution_count": 3,
   "id": "cb31e751-24c3-4582-8fde-9b870603fb22",
   "metadata": {},
   "outputs": [],
   "source": [
    "dataframe = pandas.read_csv(\"iris.csv\", header=None)\n",
    "dataset = dataframe.values\n",
    "X = dataset[:,0:4].astype(float)\n",
    "Y = dataset[:,4]"
   ]
  },
  {
   "cell_type": "markdown",
   "id": "a17ec12a-6d0f-4239-963e-0f58c95439d5",
   "metadata": {},
   "source": [
    "При решении задач многоклассовой классификации хорошей практикой является\n",
    "преобразование выходных атрибутов из вектора в матрицу к виду представленных ниже."
   ]
  },
  {
   "cell_type": "markdown",
   "id": "91210b34-418e-40f5-94a1-8c6c9d04b927",
   "metadata": {
    "jp-MarkdownHeadingCollapsed": true,
    "tags": []
   },
   "source": [
    "|Iris-setosa|Iris-versicolor|Iris-verginica|\n",
    "|-----------|---------------|--------------|\n",
    "|1|0|0|\n",
    "|0|1|0|\n",
    "|0|0|1|"
   ]
  },
  {
   "cell_type": "markdown",
   "id": "a88ee3f1-4581-4312-83de-6c5d33d0d786",
   "metadata": {},
   "source": [
    "Для этого необходимо использовать функцию *to_categorical()*"
   ]
  },
  {
   "cell_type": "code",
   "execution_count": 4,
   "id": "602e5e48-4a03-4ada-b415-4f96905c9a88",
   "metadata": {},
   "outputs": [],
   "source": [
    "encoder = LabelEncoder()\n",
    "encoder.fit(Y)\n",
    "encoded_Y = encoder.transform(Y)\n",
    "dummy_y = to_categorical(encoded_Y)"
   ]
  },
  {
   "cell_type": "markdown",
   "id": "66c74d07-3a47-4439-824e-c5931743956a",
   "metadata": {},
   "source": [
    "Далее надо задать базовую архитектуру сети."
   ]
  },
  {
   "cell_type": "code",
   "execution_count": 5,
   "id": "3399f68c-0b0b-4738-a100-1557b8b1dec9",
   "metadata": {},
   "outputs": [],
   "source": [
    "model = Sequential()\n",
    "model.add(Dense(4, activation='relu'))\n",
    "model.add(Dense(3, activation='softmax'))"
   ]
  },
  {
   "cell_type": "markdown",
   "id": "d9dad526-62e6-412f-a060-54b04780068b",
   "metadata": {},
   "source": [
    "Далее нужно подготовить сеть к обучению. Чтобы подготовить сеть к обучению, нужно настроить еще три параметра для этапа\n",
    "компиляции:\n",
    "1. **функцию потерь**, которая определяет, как сеть должна оценивать качество своей работы на обучающих данных и, соответственно, как корректировать ее в правильном направлении;\n",
    "2. **оптимизатор** — механизм, с помощью которого сеть будет обновлять себя, опираясь на наблюдаемые данные и функцию потерь;\n",
    "3. **метрики для мониторинга на этапах обучения и тестирования** — здесь нас будет интересовать только точность (доля правильно классифицированных изображений)."
   ]
  },
  {
   "cell_type": "code",
   "execution_count": 6,
   "id": "21f0ae37-ab47-4923-9eeb-943e1295f749",
   "metadata": {},
   "outputs": [],
   "source": [
    "model.compile(optimizer='adam',loss='categorical_crossentropy', metrics=['accuracy'])"
   ]
  },
  {
   "cell_type": "markdown",
   "id": "320a7682-7183-4ab1-ab4f-cc6a741ada2c",
   "metadata": {
    "tags": []
   },
   "source": [
    "Теперь можно начинать обучение сети, для чего в случае использования библиотеки Keras\n",
    "достаточно вызвать метод fit сети — он пытается адаптировать (fit) модель под обучающие\n",
    "данные."
   ]
  },
  {
   "cell_type": "code",
   "execution_count": 11,
   "id": "29e3e9df-0fda-471c-a71d-351fec5cb952",
   "metadata": {
    "collapsed": true,
    "jupyter": {
     "outputs_hidden": true
    },
    "tags": []
   },
   "outputs": [
    {
     "name": "stdout",
     "output_type": "stream",
     "text": [
      "Epoch 1/75\n",
      "14/14 [==============================] - 0s 6ms/step - loss: 0.3603 - accuracy: 0.9630 - val_loss: 0.5950 - val_accuracy: 0.9333\n",
      "Epoch 2/75\n",
      "14/14 [==============================] - 0s 3ms/step - loss: 0.3581 - accuracy: 0.9630 - val_loss: 0.6065 - val_accuracy: 0.9333\n",
      "Epoch 3/75\n",
      "14/14 [==============================] - 0s 3ms/step - loss: 0.3560 - accuracy: 0.9630 - val_loss: 0.5916 - val_accuracy: 0.9333\n",
      "Epoch 4/75\n",
      "14/14 [==============================] - 0s 3ms/step - loss: 0.3544 - accuracy: 0.9630 - val_loss: 0.6159 - val_accuracy: 0.8667\n",
      "Epoch 5/75\n",
      "14/14 [==============================] - 0s 3ms/step - loss: 0.3521 - accuracy: 0.9630 - val_loss: 0.5699 - val_accuracy: 0.9333\n",
      "Epoch 6/75\n",
      "14/14 [==============================] - 0s 3ms/step - loss: 0.3492 - accuracy: 0.9556 - val_loss: 0.5887 - val_accuracy: 0.9333\n",
      "Epoch 7/75\n",
      "14/14 [==============================] - 0s 3ms/step - loss: 0.3469 - accuracy: 0.9556 - val_loss: 0.5925 - val_accuracy: 0.9333\n",
      "Epoch 8/75\n",
      "14/14 [==============================] - 0s 3ms/step - loss: 0.3444 - accuracy: 0.9630 - val_loss: 0.5886 - val_accuracy: 0.9333\n",
      "Epoch 9/75\n",
      "14/14 [==============================] - 0s 3ms/step - loss: 0.3425 - accuracy: 0.9630 - val_loss: 0.5774 - val_accuracy: 0.9333\n",
      "Epoch 10/75\n",
      "14/14 [==============================] - 0s 4ms/step - loss: 0.3400 - accuracy: 0.9630 - val_loss: 0.5893 - val_accuracy: 0.9333\n",
      "Epoch 11/75\n",
      "14/14 [==============================] - 0s 4ms/step - loss: 0.3381 - accuracy: 0.9630 - val_loss: 0.5743 - val_accuracy: 0.9333\n",
      "Epoch 12/75\n",
      "14/14 [==============================] - 0s 3ms/step - loss: 0.3360 - accuracy: 0.9556 - val_loss: 0.5977 - val_accuracy: 0.9333\n",
      "Epoch 13/75\n",
      "14/14 [==============================] - 0s 3ms/step - loss: 0.3342 - accuracy: 0.9630 - val_loss: 0.5700 - val_accuracy: 0.9333\n",
      "Epoch 14/75\n",
      "14/14 [==============================] - 0s 3ms/step - loss: 0.3314 - accuracy: 0.9630 - val_loss: 0.5769 - val_accuracy: 0.9333\n",
      "Epoch 15/75\n",
      "14/14 [==============================] - 0s 3ms/step - loss: 0.3298 - accuracy: 0.9556 - val_loss: 0.5888 - val_accuracy: 0.9333\n",
      "Epoch 16/75\n",
      "14/14 [==============================] - 0s 3ms/step - loss: 0.3280 - accuracy: 0.9630 - val_loss: 0.5547 - val_accuracy: 0.9333\n",
      "Epoch 17/75\n",
      "14/14 [==============================] - 0s 4ms/step - loss: 0.3253 - accuracy: 0.9630 - val_loss: 0.5716 - val_accuracy: 0.9333\n",
      "Epoch 18/75\n",
      "14/14 [==============================] - 0s 5ms/step - loss: 0.3234 - accuracy: 0.9556 - val_loss: 0.5744 - val_accuracy: 0.9333\n",
      "Epoch 19/75\n",
      "14/14 [==============================] - 0s 3ms/step - loss: 0.3228 - accuracy: 0.9704 - val_loss: 0.5496 - val_accuracy: 0.9333\n",
      "Epoch 20/75\n",
      "14/14 [==============================] - 0s 3ms/step - loss: 0.3197 - accuracy: 0.9630 - val_loss: 0.5724 - val_accuracy: 0.9333\n",
      "Epoch 21/75\n",
      "14/14 [==============================] - 0s 3ms/step - loss: 0.3179 - accuracy: 0.9481 - val_loss: 0.5909 - val_accuracy: 0.9333\n",
      "Epoch 22/75\n",
      "14/14 [==============================] - 0s 4ms/step - loss: 0.3150 - accuracy: 0.9407 - val_loss: 0.5584 - val_accuracy: 0.9333\n",
      "Epoch 23/75\n",
      "14/14 [==============================] - 0s 3ms/step - loss: 0.3134 - accuracy: 0.9630 - val_loss: 0.5353 - val_accuracy: 0.9333\n",
      "Epoch 24/75\n",
      "14/14 [==============================] - 0s 3ms/step - loss: 0.3113 - accuracy: 0.9630 - val_loss: 0.5309 - val_accuracy: 0.9333\n",
      "Epoch 25/75\n",
      "14/14 [==============================] - 0s 3ms/step - loss: 0.3108 - accuracy: 0.9630 - val_loss: 0.5645 - val_accuracy: 0.9333\n",
      "Epoch 26/75\n",
      "14/14 [==============================] - 0s 3ms/step - loss: 0.3078 - accuracy: 0.9556 - val_loss: 0.5538 - val_accuracy: 0.9333\n",
      "Epoch 27/75\n",
      "14/14 [==============================] - 0s 3ms/step - loss: 0.3051 - accuracy: 0.9630 - val_loss: 0.5399 - val_accuracy: 0.9333\n",
      "Epoch 28/75\n",
      "14/14 [==============================] - 0s 3ms/step - loss: 0.3042 - accuracy: 0.9556 - val_loss: 0.4998 - val_accuracy: 0.9333\n",
      "Epoch 29/75\n",
      "14/14 [==============================] - 0s 3ms/step - loss: 0.3017 - accuracy: 0.9778 - val_loss: 0.5244 - val_accuracy: 0.9333\n",
      "Epoch 30/75\n",
      "14/14 [==============================] - 0s 3ms/step - loss: 0.2994 - accuracy: 0.9630 - val_loss: 0.5306 - val_accuracy: 0.9333\n",
      "Epoch 31/75\n",
      "14/14 [==============================] - 0s 3ms/step - loss: 0.2973 - accuracy: 0.9630 - val_loss: 0.5450 - val_accuracy: 0.9333\n",
      "Epoch 32/75\n",
      "14/14 [==============================] - 0s 3ms/step - loss: 0.2964 - accuracy: 0.9556 - val_loss: 0.5527 - val_accuracy: 0.9333\n",
      "Epoch 33/75\n",
      "14/14 [==============================] - 0s 3ms/step - loss: 0.2949 - accuracy: 0.9630 - val_loss: 0.5116 - val_accuracy: 0.9333\n",
      "Epoch 34/75\n",
      "14/14 [==============================] - 0s 3ms/step - loss: 0.2927 - accuracy: 0.9556 - val_loss: 0.5136 - val_accuracy: 0.9333\n",
      "Epoch 35/75\n",
      "14/14 [==============================] - 0s 4ms/step - loss: 0.2906 - accuracy: 0.9630 - val_loss: 0.5149 - val_accuracy: 0.9333\n",
      "Epoch 36/75\n",
      "14/14 [==============================] - 0s 3ms/step - loss: 0.2885 - accuracy: 0.9630 - val_loss: 0.5113 - val_accuracy: 0.9333\n",
      "Epoch 37/75\n",
      "14/14 [==============================] - 0s 4ms/step - loss: 0.2865 - accuracy: 0.9630 - val_loss: 0.4822 - val_accuracy: 0.9333\n",
      "Epoch 38/75\n",
      "14/14 [==============================] - 0s 3ms/step - loss: 0.2851 - accuracy: 0.9778 - val_loss: 0.4774 - val_accuracy: 0.9333\n",
      "Epoch 39/75\n",
      "14/14 [==============================] - 0s 3ms/step - loss: 0.2849 - accuracy: 0.9778 - val_loss: 0.5287 - val_accuracy: 0.9333\n",
      "Epoch 40/75\n",
      "14/14 [==============================] - 0s 4ms/step - loss: 0.2808 - accuracy: 0.9630 - val_loss: 0.4910 - val_accuracy: 0.9333\n",
      "Epoch 41/75\n",
      "14/14 [==============================] - 0s 3ms/step - loss: 0.2795 - accuracy: 0.9704 - val_loss: 0.4824 - val_accuracy: 0.9333\n",
      "Epoch 42/75\n",
      "14/14 [==============================] - 0s 3ms/step - loss: 0.2776 - accuracy: 0.9704 - val_loss: 0.4865 - val_accuracy: 0.9333\n",
      "Epoch 43/75\n",
      "14/14 [==============================] - 0s 3ms/step - loss: 0.2759 - accuracy: 0.9630 - val_loss: 0.5175 - val_accuracy: 0.9333\n",
      "Epoch 44/75\n",
      "14/14 [==============================] - 0s 3ms/step - loss: 0.2743 - accuracy: 0.9630 - val_loss: 0.5069 - val_accuracy: 0.9333\n",
      "Epoch 45/75\n",
      "14/14 [==============================] - 0s 3ms/step - loss: 0.2730 - accuracy: 0.9630 - val_loss: 0.4860 - val_accuracy: 0.9333\n",
      "Epoch 46/75\n",
      "14/14 [==============================] - 0s 3ms/step - loss: 0.2709 - accuracy: 0.9630 - val_loss: 0.4893 - val_accuracy: 0.9333\n",
      "Epoch 47/75\n",
      "14/14 [==============================] - 0s 3ms/step - loss: 0.2692 - accuracy: 0.9630 - val_loss: 0.4848 - val_accuracy: 0.9333\n",
      "Epoch 48/75\n",
      "14/14 [==============================] - 0s 3ms/step - loss: 0.2672 - accuracy: 0.9704 - val_loss: 0.4933 - val_accuracy: 0.9333\n",
      "Epoch 49/75\n",
      "14/14 [==============================] - 0s 3ms/step - loss: 0.2663 - accuracy: 0.9630 - val_loss: 0.4878 - val_accuracy: 0.9333\n",
      "Epoch 50/75\n",
      "14/14 [==============================] - 0s 3ms/step - loss: 0.2652 - accuracy: 0.9704 - val_loss: 0.4646 - val_accuracy: 0.9333\n",
      "Epoch 51/75\n",
      "14/14 [==============================] - 0s 4ms/step - loss: 0.2622 - accuracy: 0.9630 - val_loss: 0.4920 - val_accuracy: 0.9333\n",
      "Epoch 52/75\n",
      "14/14 [==============================] - 0s 4ms/step - loss: 0.2609 - accuracy: 0.9630 - val_loss: 0.4998 - val_accuracy: 0.9333\n",
      "Epoch 53/75\n",
      "14/14 [==============================] - 0s 4ms/step - loss: 0.2595 - accuracy: 0.9630 - val_loss: 0.4949 - val_accuracy: 0.9333\n",
      "Epoch 54/75\n",
      "14/14 [==============================] - 0s 3ms/step - loss: 0.2600 - accuracy: 0.9630 - val_loss: 0.4618 - val_accuracy: 0.9333\n",
      "Epoch 55/75\n",
      "14/14 [==============================] - 0s 3ms/step - loss: 0.2567 - accuracy: 0.9630 - val_loss: 0.4942 - val_accuracy: 0.9333\n",
      "Epoch 56/75\n",
      "14/14 [==============================] - 0s 3ms/step - loss: 0.2549 - accuracy: 0.9630 - val_loss: 0.4687 - val_accuracy: 0.9333\n",
      "Epoch 57/75\n",
      "14/14 [==============================] - 0s 3ms/step - loss: 0.2531 - accuracy: 0.9704 - val_loss: 0.4555 - val_accuracy: 0.9333\n",
      "Epoch 58/75\n",
      "14/14 [==============================] - 0s 3ms/step - loss: 0.2520 - accuracy: 0.9778 - val_loss: 0.4392 - val_accuracy: 0.9333\n",
      "Epoch 59/75\n",
      "14/14 [==============================] - 0s 4ms/step - loss: 0.2503 - accuracy: 0.9704 - val_loss: 0.4583 - val_accuracy: 0.9333\n",
      "Epoch 60/75\n",
      "14/14 [==============================] - 0s 3ms/step - loss: 0.2488 - accuracy: 0.9630 - val_loss: 0.4501 - val_accuracy: 0.9333\n",
      "Epoch 61/75\n",
      "14/14 [==============================] - 0s 3ms/step - loss: 0.2469 - accuracy: 0.9778 - val_loss: 0.4297 - val_accuracy: 0.9333\n",
      "Epoch 62/75\n",
      "14/14 [==============================] - 0s 4ms/step - loss: 0.2453 - accuracy: 0.9778 - val_loss: 0.4453 - val_accuracy: 0.9333\n",
      "Epoch 63/75\n",
      "14/14 [==============================] - 0s 4ms/step - loss: 0.2443 - accuracy: 0.9704 - val_loss: 0.4508 - val_accuracy: 0.9333\n",
      "Epoch 64/75\n",
      "14/14 [==============================] - 0s 3ms/step - loss: 0.2430 - accuracy: 0.9630 - val_loss: 0.4463 - val_accuracy: 0.9333\n",
      "Epoch 65/75\n",
      "14/14 [==============================] - 0s 3ms/step - loss: 0.2412 - accuracy: 0.9630 - val_loss: 0.4231 - val_accuracy: 0.9333\n",
      "Epoch 66/75\n",
      "14/14 [==============================] - 0s 3ms/step - loss: 0.2392 - accuracy: 0.9704 - val_loss: 0.4320 - val_accuracy: 0.9333\n",
      "Epoch 67/75\n",
      "14/14 [==============================] - 0s 3ms/step - loss: 0.2374 - accuracy: 0.9704 - val_loss: 0.4539 - val_accuracy: 0.9333\n",
      "Epoch 68/75\n",
      "14/14 [==============================] - 0s 3ms/step - loss: 0.2366 - accuracy: 0.9630 - val_loss: 0.4637 - val_accuracy: 0.9333\n",
      "Epoch 69/75\n",
      "14/14 [==============================] - 0s 3ms/step - loss: 0.2350 - accuracy: 0.9630 - val_loss: 0.4352 - val_accuracy: 0.9333\n",
      "Epoch 70/75\n",
      "14/14 [==============================] - 0s 3ms/step - loss: 0.2334 - accuracy: 0.9704 - val_loss: 0.4238 - val_accuracy: 0.9333\n",
      "Epoch 71/75\n",
      "14/14 [==============================] - 0s 3ms/step - loss: 0.2325 - accuracy: 0.9778 - val_loss: 0.4081 - val_accuracy: 0.9333\n",
      "Epoch 72/75\n",
      "14/14 [==============================] - 0s 3ms/step - loss: 0.2305 - accuracy: 0.9704 - val_loss: 0.4310 - val_accuracy: 0.9333\n",
      "Epoch 73/75\n",
      "14/14 [==============================] - 0s 3ms/step - loss: 0.2291 - accuracy: 0.9704 - val_loss: 0.4223 - val_accuracy: 0.9333\n",
      "Epoch 74/75\n",
      "14/14 [==============================] - 0s 3ms/step - loss: 0.2274 - accuracy: 0.9704 - val_loss: 0.4172 - val_accuracy: 0.9333\n",
      "Epoch 75/75\n",
      "14/14 [==============================] - 0s 3ms/step - loss: 0.2273 - accuracy: 0.9704 - val_loss: 0.3926 - val_accuracy: 0.9333\n"
     ]
    }
   ],
   "source": [
    "f = model.fit(X, dummy_y, epochs=75, batch_size=10, validation_split=0.1)"
   ]
  },
  {
   "cell_type": "markdown",
   "id": "b458fc74-75bd-46e7-b6be-3c3c51766151",
   "metadata": {},
   "source": [
    "В процессе обучения отображаются четыре величины: потери сети на обучающих данных\n",
    "и точность сети на обучающих данных, а также потери и точность на данных, не\n",
    "участвовавших в обучении."
   ]
  },
  {
   "cell_type": "code",
   "execution_count": 30,
   "id": "f59a3bae-0b3f-40fe-bd72-64a5ac2e771b",
   "metadata": {
    "tags": []
   },
   "outputs": [
    {
     "data": {
      "text/plain": [
       "[<matplotlib.lines.Line2D at 0x1cdc5b22b60>,\n",
       " <matplotlib.lines.Line2D at 0x1cdc5b22bc0>,\n",
       " <matplotlib.lines.Line2D at 0x1cdc5b22ce0>,\n",
       " <matplotlib.lines.Line2D at 0x1cdc5b22e00>]"
      ]
     },
     "execution_count": 30,
     "metadata": {},
     "output_type": "execute_result"
    },
    {
     "data": {
      "image/png": "[encoded data removed]",
      "text/plain": [
       "<Figure size 432x288 with 1 Axes>"
      ]
     },
     "metadata": {
      "needs_background": "light"
     },
     "output_type": "display_data"
    }
   ],
   "source": [
    "plt.plot(X)"
   ]
  },
  {
   "cell_type": "code",
   "execution_count": null,
   "id": "e82f82ce-731d-48ae-b953-f219832c70cb",
   "metadata": {},
   "outputs": [],
   "source": []
  }
 ],
 "metadata": {
  "kernelspec": {
   "display_name": "Python 3 (ipykernel)",
   "language": "python",
   "name": "python3"
  },
  "language_info": {
   "codemirror_mode": {
    "name": "ipython",
    "version": 3
   },
   "file_extension": ".py",
   "mimetype": "text/x-python",
   "name": "python",
   "nbconvert_exporter": "python",
   "pygments_lexer": "ipython3",
   "version": "3.10.0"
  }
 },
 "nbformat": 4,
 "nbformat_minor": 5
}
