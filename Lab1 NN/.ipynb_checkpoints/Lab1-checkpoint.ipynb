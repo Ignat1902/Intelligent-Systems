{
 "cells": [
  {
   "cell_type": "markdown",
   "id": "8cc22127-883a-477a-b274-e7e52d7e4831",
   "metadata": {
    "tags": []
   },
   "source": [
    "## Задание на лабораторную работу"
   ]
  },
  {
   "cell_type": "markdown",
   "id": "c8e9ecab-0db2-450f-9b49-54c71fc9212d",
   "metadata": {},
   "source": [
    "Реализовать классификацию сортов растения ирис (Iris Setosa - 0, Iris Versicolour - 1, Iris\n",
    "Virginica - 2) по четырем признакам: размерам пестиков и тычинок его цветков."
   ]
  },
  {
   "cell_type": "markdown",
   "id": "4ecb6778-2213-4e0a-80e8-993c2bde4cd7",
   "metadata": {},
   "source": [
    "## Выполнение работы"
   ]
  },
  {
   "cell_type": "markdown",
   "id": "b739ac3b-43db-4bd3-8a5e-87c4033b588c",
   "metadata": {},
   "source": [
    "Поключаем модули"
   ]
  },
  {
   "cell_type": "code",
   "execution_count": 2,
   "id": "3db60031-1c5a-443a-a121-a465b42feebb",
   "metadata": {
    "tags": []
   },
   "outputs": [],
   "source": [
    "import pandas\n",
    "import matplotlib.pyplot as plt \n",
    "from tensorflow.keras.layers import Dense\n",
    "from tensorflow.keras.models import Sequential\n",
    "from tensorflow.keras.utils import to_categorical\n",
    "from sklearn.preprocessing import LabelEncoder"
   ]
  },
  {
   "cell_type": "markdown",
   "id": "fa9a32a4-c748-4e28-ac39-615fddca7d3e",
   "metadata": {},
   "source": [
    "Набор данных загружается с помощью библиотеки Pandas. После загрузки данных из файла ```python dataframe = pandas.read_csv(\"iris.csv\", header=None)``` , необходимо разделить столбцы на входные данные (X) и выходные данные (Y)."
   ]
  },
  {
   "cell_type": "code",
   "execution_count": 3,
   "id": "cb31e751-24c3-4582-8fde-9b870603fb22",
   "metadata": {},
   "outputs": [],
   "source": [
    "dataframe = pandas.read_csv(\"iris.csv\", header=None)\n",
    "dataset = dataframe.values\n",
    "X = dataset[:,0:4].astype(float)\n",
    "Y = dataset[:,4]"
   ]
  },
  {
   "cell_type": "markdown",
   "id": "a17ec12a-6d0f-4239-963e-0f58c95439d5",
   "metadata": {},
   "source": [
    "При решении задач многоклассовой классификации хорошей практикой является\n",
    "преобразование выходных атрибутов из вектора в матрицу к виду представленных ниже."
   ]
  },
  {
   "cell_type": "markdown",
   "id": "91210b34-418e-40f5-94a1-8c6c9d04b927",
   "metadata": {
    "jp-MarkdownHeadingCollapsed": true,
    "tags": []
   },
   "source": [
    "|Iris-setosa|Iris-versicolor|Iris-verginica|\n",
    "|-----------|---------------|--------------|\n",
    "|1|0|0|\n",
    "|0|1|0|\n",
    "|0|0|1|"
   ]
  },
  {
   "cell_type": "markdown",
   "id": "a88ee3f1-4581-4312-83de-6c5d33d0d786",
   "metadata": {},
   "source": [
    "Для этого необходимо использовать функцию *to_categorical()*"
   ]
  },
  {
   "cell_type": "code",
   "execution_count": 4,
   "id": "602e5e48-4a03-4ada-b415-4f96905c9a88",
   "metadata": {},
   "outputs": [],
   "source": [
    "encoder = LabelEncoder()\n",
    "encoder.fit(Y)\n",
    "encoded_Y = encoder.transform(Y)\n",
    "dummy_y = to_categorical(encoded_Y)"
   ]
  },
  {
   "cell_type": "markdown",
   "id": "66c74d07-3a47-4439-824e-c5931743956a",
   "metadata": {},
   "source": [
    "Далее надо задать базовую архитектуру сети."
   ]
  },
  {
   "cell_type": "code",
   "execution_count": 5,
   "id": "3399f68c-0b0b-4738-a100-1557b8b1dec9",
   "metadata": {},
   "outputs": [],
   "source": [
    "model = Sequential()\n",
    "model.add(Dense(4, activation='relu'))\n",
    "model.add(Dense(3, activation='softmax'))"
   ]
  },
  {
   "cell_type": "markdown",
   "id": "d9dad526-62e6-412f-a060-54b04780068b",
   "metadata": {},
   "source": [
    "Далее нужно подготовить сеть к обучению. Чтобы подготовить сеть к обучению, нужно настроить еще три параметра для этапа\n",
    "компиляции:\n",
    "1. **функцию потерь**, которая определяет, как сеть должна оценивать качество своей работы на обучающих данных и, соответственно, как корректировать ее в правильном направлении;\n",
    "2. **оптимизатор** — механизм, с помощью которого сеть будет обновлять себя, опираясь на наблюдаемые данные и функцию потерь;\n",
    "3. **метрики для мониторинга на этапах обучения и тестирования** — здесь нас будет интересовать только точность (доля правильно классифицированных изображений)."
   ]
  },
  {
   "cell_type": "code",
   "execution_count": 6,
   "id": "21f0ae37-ab47-4923-9eeb-943e1295f749",
   "metadata": {},
   "outputs": [],
   "source": [
    "model.compile(optimizer='adam',loss='categorical_crossentropy', metrics=['accuracy'])"
   ]
  },
  {
   "cell_type": "markdown",
   "id": "320a7682-7183-4ab1-ab4f-cc6a741ada2c",
   "metadata": {
    "tags": []
   },
   "source": [
    "Теперь можно начинать обучение сети, для чего в случае использования библиотеки Keras\n",
    "достаточно вызвать метод fit сети — он пытается адаптировать (fit) модель под обучающие\n",
    "данные."
   ]
  },
  {
   "cell_type": "code",
   "execution_count": 7,
   "id": "29e3e9df-0fda-471c-a71d-351fec5cb952",
   "metadata": {
    "collapsed": true,
    "jupyter": {
     "outputs_hidden": true
    },
    "tags": []
   },
   "outputs": [
    {
     "name": "stdout",
     "output_type": "stream",
     "text": [
      "Epoch 1/75\n",
      "14/14 [==============================] - 1s 19ms/step - loss: 2.8290 - accuracy: 0.3704 - val_loss: 4.0055 - val_accuracy: 0.0000e+00\n",
      "Epoch 2/75\n",
      "14/14 [==============================] - 0s 3ms/step - loss: 2.4660 - accuracy: 0.3704 - val_loss: 3.2692 - val_accuracy: 0.0000e+00\n",
      "Epoch 3/75\n",
      "14/14 [==============================] - 0s 3ms/step - loss: 2.1370 - accuracy: 0.3704 - val_loss: 2.6117 - val_accuracy: 0.0000e+00\n",
      "Epoch 4/75\n",
      "14/14 [==============================] - 0s 3ms/step - loss: 1.8641 - accuracy: 0.3704 - val_loss: 2.0115 - val_accuracy: 0.0000e+00\n",
      "Epoch 5/75\n",
      "14/14 [==============================] - 0s 3ms/step - loss: 1.6536 - accuracy: 0.3704 - val_loss: 1.5492 - val_accuracy: 0.0000e+00\n",
      "Epoch 6/75\n",
      "14/14 [==============================] - 0s 3ms/step - loss: 1.4959 - accuracy: 0.3704 - val_loss: 1.2332 - val_accuracy: 0.0000e+00\n",
      "Epoch 7/75\n",
      "14/14 [==============================] - 0s 3ms/step - loss: 1.3774 - accuracy: 0.3778 - val_loss: 1.0452 - val_accuracy: 0.0000e+00\n",
      "Epoch 8/75\n",
      "14/14 [==============================] - 0s 3ms/step - loss: 1.2966 - accuracy: 0.4222 - val_loss: 0.9418 - val_accuracy: 0.0000e+00\n",
      "Epoch 9/75\n",
      "14/14 [==============================] - 0s 3ms/step - loss: 1.2356 - accuracy: 0.4815 - val_loss: 0.8758 - val_accuracy: 0.1333\n",
      "Epoch 10/75\n",
      "14/14 [==============================] - 0s 3ms/step - loss: 1.1804 - accuracy: 0.5259 - val_loss: 0.8217 - val_accuracy: 0.4667\n",
      "Epoch 11/75\n",
      "14/14 [==============================] - 0s 4ms/step - loss: 1.1363 - accuracy: 0.5778 - val_loss: 0.8092 - val_accuracy: 0.6667\n",
      "Epoch 12/75\n",
      "14/14 [==============================] - 0s 4ms/step - loss: 1.0960 - accuracy: 0.5926 - val_loss: 0.8174 - val_accuracy: 0.6667\n",
      "Epoch 13/75\n",
      "14/14 [==============================] - 0s 4ms/step - loss: 1.0599 - accuracy: 0.6000 - val_loss: 0.8293 - val_accuracy: 0.7333\n",
      "Epoch 14/75\n",
      "14/14 [==============================] - 0s 3ms/step - loss: 1.0305 - accuracy: 0.6148 - val_loss: 0.8168 - val_accuracy: 0.8667\n",
      "Epoch 15/75\n",
      "14/14 [==============================] - 0s 3ms/step - loss: 1.0009 - accuracy: 0.6296 - val_loss: 0.8390 - val_accuracy: 0.8667\n",
      "Epoch 16/75\n",
      "14/14 [==============================] - 0s 4ms/step - loss: 0.9762 - accuracy: 0.6296 - val_loss: 0.8312 - val_accuracy: 0.9333\n",
      "Epoch 17/75\n",
      "14/14 [==============================] - 0s 4ms/step - loss: 0.9542 - accuracy: 0.6222 - val_loss: 0.8465 - val_accuracy: 0.9333\n",
      "Epoch 18/75\n",
      "14/14 [==============================] - 0s 5ms/step - loss: 0.9323 - accuracy: 0.6222 - val_loss: 0.8379 - val_accuracy: 1.0000\n",
      "Epoch 19/75\n",
      "14/14 [==============================] - 0s 4ms/step - loss: 0.9150 - accuracy: 0.6222 - val_loss: 0.8498 - val_accuracy: 1.0000\n",
      "Epoch 20/75\n",
      "14/14 [==============================] - 0s 4ms/step - loss: 0.8965 - accuracy: 0.6296 - val_loss: 0.8607 - val_accuracy: 1.0000\n",
      "Epoch 21/75\n",
      "14/14 [==============================] - 0s 4ms/step - loss: 0.8807 - accuracy: 0.6370 - val_loss: 0.8686 - val_accuracy: 1.0000\n",
      "Epoch 22/75\n",
      "14/14 [==============================] - 0s 3ms/step - loss: 0.8658 - accuracy: 0.6593 - val_loss: 0.8658 - val_accuracy: 1.0000\n",
      "Epoch 23/75\n",
      "14/14 [==============================] - 0s 4ms/step - loss: 0.8521 - accuracy: 0.6741 - val_loss: 0.8646 - val_accuracy: 1.0000\n",
      "Epoch 24/75\n",
      "14/14 [==============================] - 0s 4ms/step - loss: 0.8392 - accuracy: 0.6963 - val_loss: 0.8308 - val_accuracy: 1.0000\n",
      "Epoch 25/75\n",
      "14/14 [==============================] - 0s 3ms/step - loss: 0.8269 - accuracy: 0.7259 - val_loss: 0.8590 - val_accuracy: 0.9333\n",
      "Epoch 26/75\n",
      "14/14 [==============================] - 0s 3ms/step - loss: 0.8138 - accuracy: 0.7926 - val_loss: 0.8505 - val_accuracy: 0.9333\n",
      "Epoch 27/75\n",
      "14/14 [==============================] - 0s 3ms/step - loss: 0.8022 - accuracy: 0.8148 - val_loss: 0.8521 - val_accuracy: 0.8667\n",
      "Epoch 28/75\n",
      "14/14 [==============================] - 0s 3ms/step - loss: 0.7904 - accuracy: 0.8667 - val_loss: 0.8608 - val_accuracy: 0.8667\n",
      "Epoch 29/75\n",
      "14/14 [==============================] - 0s 3ms/step - loss: 0.7791 - accuracy: 0.8889 - val_loss: 0.8523 - val_accuracy: 0.8667\n",
      "Epoch 30/75\n",
      "14/14 [==============================] - 0s 3ms/step - loss: 0.7682 - accuracy: 0.9111 - val_loss: 0.8593 - val_accuracy: 0.8667\n",
      "Epoch 31/75\n",
      "14/14 [==============================] - 0s 3ms/step - loss: 0.7578 - accuracy: 0.9259 - val_loss: 0.8576 - val_accuracy: 0.8000\n",
      "Epoch 32/75\n",
      "14/14 [==============================] - 0s 3ms/step - loss: 0.7468 - accuracy: 0.9111 - val_loss: 0.8288 - val_accuracy: 0.8667\n",
      "Epoch 33/75\n",
      "14/14 [==============================] - 0s 3ms/step - loss: 0.7365 - accuracy: 0.9185 - val_loss: 0.8266 - val_accuracy: 0.8000\n",
      "Epoch 34/75\n",
      "14/14 [==============================] - 0s 4ms/step - loss: 0.7265 - accuracy: 0.9259 - val_loss: 0.8229 - val_accuracy: 0.8000\n",
      "Epoch 35/75\n",
      "14/14 [==============================] - 0s 3ms/step - loss: 0.7163 - accuracy: 0.9111 - val_loss: 0.8354 - val_accuracy: 0.7333\n",
      "Epoch 36/75\n",
      "14/14 [==============================] - 0s 3ms/step - loss: 0.7068 - accuracy: 0.9259 - val_loss: 0.8366 - val_accuracy: 0.6667\n",
      "Epoch 37/75\n",
      "14/14 [==============================] - 0s 3ms/step - loss: 0.6962 - accuracy: 0.9259 - val_loss: 0.8248 - val_accuracy: 0.7333\n",
      "Epoch 38/75\n",
      "14/14 [==============================] - 0s 4ms/step - loss: 0.6868 - accuracy: 0.9185 - val_loss: 0.7889 - val_accuracy: 0.8000\n",
      "Epoch 39/75\n",
      "14/14 [==============================] - 0s 4ms/step - loss: 0.6772 - accuracy: 0.9259 - val_loss: 0.7920 - val_accuracy: 0.8000\n",
      "Epoch 40/75\n",
      "14/14 [==============================] - 0s 4ms/step - loss: 0.6680 - accuracy: 0.9259 - val_loss: 0.7934 - val_accuracy: 0.8000\n",
      "Epoch 41/75\n",
      "14/14 [==============================] - 0s 4ms/step - loss: 0.6591 - accuracy: 0.9333 - val_loss: 0.7815 - val_accuracy: 0.8000\n",
      "Epoch 42/75\n",
      "14/14 [==============================] - 0s 3ms/step - loss: 0.6495 - accuracy: 0.9333 - val_loss: 0.7742 - val_accuracy: 0.8000\n",
      "Epoch 43/75\n",
      "14/14 [==============================] - 0s 3ms/step - loss: 0.6407 - accuracy: 0.9407 - val_loss: 0.7731 - val_accuracy: 0.8000\n",
      "Epoch 44/75\n",
      "14/14 [==============================] - 0s 3ms/step - loss: 0.6324 - accuracy: 0.9333 - val_loss: 0.7602 - val_accuracy: 0.8000\n",
      "Epoch 45/75\n",
      "14/14 [==============================] - 0s 4ms/step - loss: 0.6243 - accuracy: 0.9333 - val_loss: 0.7832 - val_accuracy: 0.6667\n",
      "Epoch 46/75\n",
      "14/14 [==============================] - 0s 4ms/step - loss: 0.6150 - accuracy: 0.9407 - val_loss: 0.7671 - val_accuracy: 0.7333\n",
      "Epoch 47/75\n",
      "14/14 [==============================] - 0s 3ms/step - loss: 0.6071 - accuracy: 0.9407 - val_loss: 0.7649 - val_accuracy: 0.7333\n",
      "Epoch 48/75\n",
      "14/14 [==============================] - 0s 3ms/step - loss: 0.5989 - accuracy: 0.9481 - val_loss: 0.7511 - val_accuracy: 0.7333\n",
      "Epoch 49/75\n",
      "14/14 [==============================] - 0s 3ms/step - loss: 0.5913 - accuracy: 0.9407 - val_loss: 0.7407 - val_accuracy: 0.8000\n",
      "Epoch 50/75\n",
      "14/14 [==============================] - 0s 4ms/step - loss: 0.5834 - accuracy: 0.9481 - val_loss: 0.7449 - val_accuracy: 0.7333\n",
      "Epoch 51/75\n",
      "14/14 [==============================] - 0s 3ms/step - loss: 0.5757 - accuracy: 0.9556 - val_loss: 0.7576 - val_accuracy: 0.6667\n",
      "Epoch 52/75\n",
      "14/14 [==============================] - 0s 3ms/step - loss: 0.5688 - accuracy: 0.9556 - val_loss: 0.7694 - val_accuracy: 0.6667\n",
      "Epoch 53/75\n",
      "14/14 [==============================] - 0s 3ms/step - loss: 0.5618 - accuracy: 0.9556 - val_loss: 0.7592 - val_accuracy: 0.6667\n",
      "Epoch 54/75\n",
      "14/14 [==============================] - 0s 4ms/step - loss: 0.5547 - accuracy: 0.9556 - val_loss: 0.7310 - val_accuracy: 0.7333\n",
      "Epoch 55/75\n",
      "14/14 [==============================] - 0s 4ms/step - loss: 0.5483 - accuracy: 0.9481 - val_loss: 0.7487 - val_accuracy: 0.6667\n",
      "Epoch 56/75\n",
      "14/14 [==============================] - 0s 3ms/step - loss: 0.5410 - accuracy: 0.9481 - val_loss: 0.7393 - val_accuracy: 0.6667\n",
      "Epoch 57/75\n",
      "14/14 [==============================] - 0s 3ms/step - loss: 0.5348 - accuracy: 0.9481 - val_loss: 0.7207 - val_accuracy: 0.7333\n",
      "Epoch 58/75\n",
      "14/14 [==============================] - 0s 3ms/step - loss: 0.5288 - accuracy: 0.9556 - val_loss: 0.7066 - val_accuracy: 0.8000\n",
      "Epoch 59/75\n",
      "14/14 [==============================] - 0s 3ms/step - loss: 0.5223 - accuracy: 0.9556 - val_loss: 0.7333 - val_accuracy: 0.6667\n",
      "Epoch 60/75\n",
      "14/14 [==============================] - 0s 3ms/step - loss: 0.5163 - accuracy: 0.9556 - val_loss: 0.7158 - val_accuracy: 0.6667\n",
      "Epoch 61/75\n",
      "14/14 [==============================] - 0s 3ms/step - loss: 0.5101 - accuracy: 0.9556 - val_loss: 0.7200 - val_accuracy: 0.6667\n",
      "Epoch 62/75\n",
      "14/14 [==============================] - 0s 3ms/step - loss: 0.5047 - accuracy: 0.9556 - val_loss: 0.7194 - val_accuracy: 0.6667\n",
      "Epoch 63/75\n",
      "14/14 [==============================] - 0s 3ms/step - loss: 0.4991 - accuracy: 0.9556 - val_loss: 0.7149 - val_accuracy: 0.6667\n",
      "Epoch 64/75\n",
      "14/14 [==============================] - 0s 4ms/step - loss: 0.4937 - accuracy: 0.9556 - val_loss: 0.7022 - val_accuracy: 0.6667\n",
      "Epoch 65/75\n",
      "14/14 [==============================] - 0s 3ms/step - loss: 0.4886 - accuracy: 0.9556 - val_loss: 0.7072 - val_accuracy: 0.6667\n",
      "Epoch 66/75\n",
      "14/14 [==============================] - 0s 3ms/step - loss: 0.4832 - accuracy: 0.9556 - val_loss: 0.7033 - val_accuracy: 0.6667\n",
      "Epoch 67/75\n",
      "14/14 [==============================] - 0s 3ms/step - loss: 0.4793 - accuracy: 0.9556 - val_loss: 0.7214 - val_accuracy: 0.6667\n",
      "Epoch 68/75\n",
      "14/14 [==============================] - 0s 3ms/step - loss: 0.4738 - accuracy: 0.9630 - val_loss: 0.6771 - val_accuracy: 0.7333\n",
      "Epoch 69/75\n",
      "14/14 [==============================] - 0s 3ms/step - loss: 0.4692 - accuracy: 0.9556 - val_loss: 0.6825 - val_accuracy: 0.7333\n",
      "Epoch 70/75\n",
      "14/14 [==============================] - 0s 3ms/step - loss: 0.4643 - accuracy: 0.9556 - val_loss: 0.6849 - val_accuracy: 0.6667\n",
      "Epoch 71/75\n",
      "14/14 [==============================] - 0s 3ms/step - loss: 0.4601 - accuracy: 0.9556 - val_loss: 0.6676 - val_accuracy: 0.8000\n",
      "Epoch 72/75\n",
      "14/14 [==============================] - 0s 3ms/step - loss: 0.4554 - accuracy: 0.9556 - val_loss: 0.6783 - val_accuracy: 0.6667\n",
      "Epoch 73/75\n",
      "14/14 [==============================] - 0s 3ms/step - loss: 0.4516 - accuracy: 0.9630 - val_loss: 0.6714 - val_accuracy: 0.7333\n",
      "Epoch 74/75\n",
      "14/14 [==============================] - 0s 3ms/step - loss: 0.4471 - accuracy: 0.9556 - val_loss: 0.6805 - val_accuracy: 0.6667\n",
      "Epoch 75/75\n",
      "14/14 [==============================] - 0s 3ms/step - loss: 0.4427 - accuracy: 0.9630 - val_loss: 0.6774 - val_accuracy: 0.6667\n"
     ]
    }
   ],
   "source": [
    "f = model.fit(X, dummy_y, epochs=75, batch_size=10, validation_split=0.1)"
   ]
  },
  {
   "cell_type": "markdown",
   "id": "b458fc74-75bd-46e7-b6be-3c3c51766151",
   "metadata": {},
   "source": [
    "В процессе обучения отображаются четыре величины: потери сети на обучающих данных\n",
    "и точность сети на обучающих данных, а также потери и точность на данных, не\n",
    "участвовавших в обучении."
   ]
  },
  {
   "cell_type": "code",
   "execution_count": 11,
   "id": "f59a3bae-0b3f-40fe-bd72-64a5ac2e771b",
   "metadata": {
    "tags": []
   },
   "outputs": [
    {
     "data": {
      "text/plain": [
       "[<matplotlib.lines.Line2D at 0x17bb97a30a0>]"
      ]
     },
     "execution_count": 11,
     "metadata": {},
     "output_type": "execute_result"
    },
    {
     "data": {
      "image/png": "[encoded data removed]",
      "text/plain": [
       "<Figure size 432x288 with 1 Axes>"
      ]
     },
     "metadata": {
      "needs_background": "light"
     },
     "output_type": "display_data"
    }
   ],
   "source": [
    "plt.plot(f.history['loss'],f.history['accuracy'])"
   ]
  },
  {
   "cell_type": "code",
   "execution_count": null,
   "id": "e82f82ce-731d-48ae-b953-f219832c70cb",
   "metadata": {},
   "outputs": [],
   "source": []
  }
 ],
 "metadata": {
  "kernelspec": {
   "display_name": "Python 3 (ipykernel)",
   "language": "python",
   "name": "python3"
  },
  "language_info": {
   "codemirror_mode": {
    "name": "ipython",
    "version": 3
   },
   "file_extension": ".py",
   "mimetype": "text/x-python",
   "name": "python",
   "nbconvert_exporter": "python",
   "pygments_lexer": "ipython3",
   "version": "3.10.0"
  }
 },
 "nbformat": 4,
 "nbformat_minor": 5
}
