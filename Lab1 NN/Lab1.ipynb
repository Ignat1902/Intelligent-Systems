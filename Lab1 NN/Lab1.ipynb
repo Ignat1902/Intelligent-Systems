{
 "cells": [
  {
   "cell_type": "markdown",
   "id": "8cc22127-883a-477a-b274-e7e52d7e4831",
   "metadata": {
    "tags": []
   },
   "source": [
    "## Задание на лабораторную работу"
   ]
  },
  {
   "cell_type": "markdown",
   "id": "c8e9ecab-0db2-450f-9b49-54c71fc9212d",
   "metadata": {},
   "source": [
    "Реализовать классификацию сортов растения ирис (Iris Setosa - 0, Iris Versicolour - 1, Iris\n",
    "Virginica - 2) по четырем признакам: размерам пестиков и тычинок его цветков."
   ]
  },
  {
   "cell_type": "markdown",
   "id": "4ecb6778-2213-4e0a-80e8-993c2bde4cd7",
   "metadata": {},
   "source": [
    "## Выполнение работы"
   ]
  },
  {
   "cell_type": "markdown",
   "id": "b739ac3b-43db-4bd3-8a5e-87c4033b588c",
   "metadata": {},
   "source": [
    "Поключаем модули"
   ]
  },
  {
   "cell_type": "code",
   "execution_count": 7,
   "id": "3db60031-1c5a-443a-a121-a465b42feebb",
   "metadata": {
    "tags": []
   },
   "outputs": [],
   "source": [
    "import pandas\n",
    "import matplotlib.pyplot as plt \n",
    "from tensorflow.keras.layers import Dense\n",
    "from tensorflow.keras.models import Sequential\n",
    "from tensorflow.keras.utils import to_categorical\n",
    "from sklearn.preprocessing import LabelEncoder"
   ]
  },
  {
   "cell_type": "markdown",
   "id": "fa9a32a4-c748-4e28-ac39-615fddca7d3e",
   "metadata": {},
   "source": [
    "Набор данных загружается с помощью библиотеки Pandas. После загрузки данных из файла ```python dataframe = pandas.read_csv(\"iris.csv\", header=None)``` , необходимо разделить столбцы на входные данные (X) и выходные данные (Y)."
   ]
  },
  {
   "cell_type": "code",
   "execution_count": 8,
   "id": "cb31e751-24c3-4582-8fde-9b870603fb22",
   "metadata": {},
   "outputs": [],
   "source": [
    "dataframe = pandas.read_csv(\"iris.csv\", header=None)\n",
    "dataset = dataframe.values\n",
    "X = dataset[:,0:4].astype(float)\n",
    "Y = dataset[:,4]"
   ]
  },
  {
   "cell_type": "markdown",
   "id": "a17ec12a-6d0f-4239-963e-0f58c95439d5",
   "metadata": {},
   "source": [
    "При решении задач многоклассовой классификации хорошей практикой является\n",
    "преобразование выходных атрибутов из вектора в матрицу к виду представленных ниже."
   ]
  },
  {
   "cell_type": "markdown",
   "id": "91210b34-418e-40f5-94a1-8c6c9d04b927",
   "metadata": {
    "jp-MarkdownHeadingCollapsed": true,
    "tags": []
   },
   "source": [
    "|Iris-setosa|Iris-versicolor|Iris-verginica|\n",
    "|-----------|---------------|--------------|\n",
    "|1|0|0|\n",
    "|0|1|0|\n",
    "|0|0|1|"
   ]
  },
  {
   "cell_type": "markdown",
   "id": "a88ee3f1-4581-4312-83de-6c5d33d0d786",
   "metadata": {},
   "source": [
    "Для этого необходимо использовать функцию *to_categorical()*"
   ]
  },
  {
   "cell_type": "code",
   "execution_count": 9,
   "id": "602e5e48-4a03-4ada-b415-4f96905c9a88",
   "metadata": {},
   "outputs": [],
   "source": [
    "encoder = LabelEncoder()\n",
    "encoder.fit(Y)\n",
    "encoded_Y = encoder.transform(Y)\n",
    "dummy_y = to_categorical(encoded_Y)"
   ]
  },
  {
   "cell_type": "markdown",
   "id": "66c74d07-3a47-4439-824e-c5931743956a",
   "metadata": {},
   "source": [
    "Далее надо задать базовую архитектуру сети."
   ]
  },
  {
   "cell_type": "code",
   "execution_count": 10,
   "id": "3399f68c-0b0b-4738-a100-1557b8b1dec9",
   "metadata": {},
   "outputs": [],
   "source": [
    "model = Sequential()\n",
    "model.add(Dense(4, activation='relu'))\n",
    "model.add(Dense(3, activation='softmax'))"
   ]
  },
  {
   "cell_type": "markdown",
   "id": "d9dad526-62e6-412f-a060-54b04780068b",
   "metadata": {},
   "source": [
    "Далее нужно подготовить сеть к обучению. Чтобы подготовить сеть к обучению, нужно настроить еще три параметра для этапа\n",
    "компиляции:\n",
    "1. **функцию потерь**, которая определяет, как сеть должна оценивать качество своей работы на обучающих данных и, соответственно, как корректировать ее в правильном направлении;\n",
    "2. **оптимизатор** — механизм, с помощью которого сеть будет обновлять себя, опираясь на наблюдаемые данные и функцию потерь;\n",
    "3. **метрики для мониторинга на этапах обучения и тестирования** — здесь нас будет интересовать только точность (доля правильно классифицированных изображений)."
   ]
  },
  {
   "cell_type": "code",
   "execution_count": 11,
   "id": "21f0ae37-ab47-4923-9eeb-943e1295f749",
   "metadata": {},
   "outputs": [],
   "source": [
    "model.compile(optimizer='adam',loss='categorical_crossentropy', metrics=['accuracy'])"
   ]
  },
  {
   "cell_type": "markdown",
   "id": "320a7682-7183-4ab1-ab4f-cc6a741ada2c",
   "metadata": {
    "tags": []
   },
   "source": [
    "Теперь можно начинать обучение сети, для чего в случае использования библиотеки Keras\n",
    "достаточно вызвать метод fit сети — он пытается адаптировать (fit) модель под обучающие\n",
    "данные."
   ]
  },
  {
   "cell_type": "code",
   "execution_count": 12,
   "id": "29e3e9df-0fda-471c-a71d-351fec5cb952",
   "metadata": {
    "collapsed": true,
    "jupyter": {
     "outputs_hidden": true
    },
    "tags": []
   },
   "outputs": [
    {
     "name": "stdout",
     "output_type": "stream",
     "text": [
      "Epoch 1/75\n",
      "14/14 [==============================] - 1s 22ms/step - loss: 2.1253 - accuracy: 0.3704 - val_loss: 5.2782 - val_accuracy: 0.0000e+00\n",
      "Epoch 2/75\n",
      "14/14 [==============================] - 0s 4ms/step - loss: 1.9730 - accuracy: 0.3704 - val_loss: 4.9578 - val_accuracy: 0.0000e+00\n",
      "Epoch 3/75\n",
      "14/14 [==============================] - 0s 5ms/step - loss: 1.8510 - accuracy: 0.3704 - val_loss: 4.7098 - val_accuracy: 0.0000e+00\n",
      "Epoch 4/75\n",
      "14/14 [==============================] - 0s 4ms/step - loss: 1.7557 - accuracy: 0.3704 - val_loss: 4.4767 - val_accuracy: 0.0000e+00\n",
      "Epoch 5/75\n",
      "14/14 [==============================] - 0s 4ms/step - loss: 1.6813 - accuracy: 0.3704 - val_loss: 4.2336 - val_accuracy: 0.0000e+00\n",
      "Epoch 6/75\n",
      "14/14 [==============================] - 0s 5ms/step - loss: 1.6098 - accuracy: 0.3704 - val_loss: 4.0355 - val_accuracy: 0.0000e+00\n",
      "Epoch 7/75\n",
      "14/14 [==============================] - 0s 4ms/step - loss: 1.5510 - accuracy: 0.3704 - val_loss: 3.8280 - val_accuracy: 0.0000e+00\n",
      "Epoch 8/75\n",
      "14/14 [==============================] - 0s 4ms/step - loss: 1.5002 - accuracy: 0.3704 - val_loss: 3.6082 - val_accuracy: 0.0000e+00\n",
      "Epoch 9/75\n",
      "14/14 [==============================] - 0s 5ms/step - loss: 1.4483 - accuracy: 0.3704 - val_loss: 3.4140 - val_accuracy: 0.0000e+00\n",
      "Epoch 10/75\n",
      "14/14 [==============================] - 0s 4ms/step - loss: 1.4052 - accuracy: 0.3704 - val_loss: 3.2081 - val_accuracy: 0.0000e+00\n",
      "Epoch 11/75\n",
      "14/14 [==============================] - 0s 4ms/step - loss: 1.3654 - accuracy: 0.3704 - val_loss: 3.0179 - val_accuracy: 0.0000e+00\n",
      "Epoch 12/75\n",
      "14/14 [==============================] - 0s 4ms/step - loss: 1.3273 - accuracy: 0.3704 - val_loss: 2.8814 - val_accuracy: 0.0000e+00\n",
      "Epoch 13/75\n",
      "14/14 [==============================] - 0s 5ms/step - loss: 1.2968 - accuracy: 0.3704 - val_loss: 2.7176 - val_accuracy: 0.0000e+00\n",
      "Epoch 14/75\n",
      "14/14 [==============================] - 0s 5ms/step - loss: 1.2700 - accuracy: 0.3704 - val_loss: 2.5529 - val_accuracy: 0.0000e+00\n",
      "Epoch 15/75\n",
      "14/14 [==============================] - 0s 5ms/step - loss: 1.2456 - accuracy: 0.3704 - val_loss: 2.4225 - val_accuracy: 0.0000e+00\n",
      "Epoch 16/75\n",
      "14/14 [==============================] - 0s 5ms/step - loss: 1.2246 - accuracy: 0.3704 - val_loss: 2.3053 - val_accuracy: 0.0000e+00\n",
      "Epoch 17/75\n",
      "14/14 [==============================] - 0s 5ms/step - loss: 1.2063 - accuracy: 0.3704 - val_loss: 2.2308 - val_accuracy: 0.0000e+00\n",
      "Epoch 18/75\n",
      "14/14 [==============================] - 0s 4ms/step - loss: 1.1937 - accuracy: 0.3704 - val_loss: 2.1373 - val_accuracy: 0.0000e+00\n",
      "Epoch 19/75\n",
      "14/14 [==============================] - 0s 5ms/step - loss: 1.1815 - accuracy: 0.3704 - val_loss: 2.0532 - val_accuracy: 0.0000e+00\n",
      "Epoch 20/75\n",
      "14/14 [==============================] - 0s 6ms/step - loss: 1.1693 - accuracy: 0.3852 - val_loss: 2.0108 - val_accuracy: 0.0000e+00\n",
      "Epoch 21/75\n",
      "14/14 [==============================] - 0s 5ms/step - loss: 1.1631 - accuracy: 0.3852 - val_loss: 1.9385 - val_accuracy: 0.0000e+00\n",
      "Epoch 22/75\n",
      "14/14 [==============================] - 0s 5ms/step - loss: 1.1532 - accuracy: 0.3926 - val_loss: 1.9215 - val_accuracy: 0.0000e+00\n",
      "Epoch 23/75\n",
      "14/14 [==============================] - 0s 4ms/step - loss: 1.1460 - accuracy: 0.4148 - val_loss: 1.8654 - val_accuracy: 0.0000e+00\n",
      "Epoch 24/75\n",
      "14/14 [==============================] - 0s 11ms/step - loss: 1.1404 - accuracy: 0.4148 - val_loss: 1.8133 - val_accuracy: 0.0000e+00\n",
      "Epoch 25/75\n",
      "14/14 [==============================] - 0s 5ms/step - loss: 1.1354 - accuracy: 0.4519 - val_loss: 1.8158 - val_accuracy: 0.0000e+00\n",
      "Epoch 26/75\n",
      "14/14 [==============================] - 0s 5ms/step - loss: 1.1289 - accuracy: 0.4963 - val_loss: 1.7648 - val_accuracy: 0.0000e+00\n",
      "Epoch 27/75\n",
      "14/14 [==============================] - 0s 5ms/step - loss: 1.1241 - accuracy: 0.4815 - val_loss: 1.7366 - val_accuracy: 0.0000e+00\n",
      "Epoch 28/75\n",
      "14/14 [==============================] - 0s 5ms/step - loss: 1.1189 - accuracy: 0.4963 - val_loss: 1.7135 - val_accuracy: 0.0000e+00\n",
      "Epoch 29/75\n",
      "14/14 [==============================] - 0s 4ms/step - loss: 1.1141 - accuracy: 0.5333 - val_loss: 1.7076 - val_accuracy: 0.0000e+00\n",
      "Epoch 30/75\n",
      "14/14 [==============================] - 0s 4ms/step - loss: 1.1106 - accuracy: 0.6296 - val_loss: 1.7081 - val_accuracy: 0.0000e+00\n",
      "Epoch 31/75\n",
      "14/14 [==============================] - 0s 4ms/step - loss: 1.1058 - accuracy: 0.6815 - val_loss: 1.6855 - val_accuracy: 0.0000e+00\n",
      "Epoch 32/75\n",
      "14/14 [==============================] - 0s 4ms/step - loss: 1.1014 - accuracy: 0.6519 - val_loss: 1.6695 - val_accuracy: 0.0000e+00\n",
      "Epoch 33/75\n",
      "14/14 [==============================] - 0s 4ms/step - loss: 1.0971 - accuracy: 0.6815 - val_loss: 1.6575 - val_accuracy: 0.0000e+00\n",
      "Epoch 34/75\n",
      "14/14 [==============================] - 0s 4ms/step - loss: 1.0923 - accuracy: 0.6889 - val_loss: 1.6366 - val_accuracy: 0.0000e+00\n",
      "Epoch 35/75\n",
      "14/14 [==============================] - 0s 4ms/step - loss: 1.0889 - accuracy: 0.6963 - val_loss: 1.6347 - val_accuracy: 0.0000e+00\n",
      "Epoch 36/75\n",
      "14/14 [==============================] - 0s 5ms/step - loss: 1.0834 - accuracy: 0.7111 - val_loss: 1.6271 - val_accuracy: 0.0000e+00\n",
      "Epoch 37/75\n",
      "14/14 [==============================] - 0s 4ms/step - loss: 1.0789 - accuracy: 0.7111 - val_loss: 1.6072 - val_accuracy: 0.0000e+00\n",
      "Epoch 38/75\n",
      "14/14 [==============================] - 0s 5ms/step - loss: 1.0754 - accuracy: 0.7333 - val_loss: 1.6187 - val_accuracy: 0.0000e+00\n",
      "Epoch 39/75\n",
      "14/14 [==============================] - 0s 4ms/step - loss: 1.0689 - accuracy: 0.7333 - val_loss: 1.6085 - val_accuracy: 0.0000e+00\n",
      "Epoch 40/75\n",
      "14/14 [==============================] - 0s 4ms/step - loss: 1.0638 - accuracy: 0.7333 - val_loss: 1.5961 - val_accuracy: 0.0000e+00\n",
      "Epoch 41/75\n",
      "14/14 [==============================] - 0s 4ms/step - loss: 1.0593 - accuracy: 0.7185 - val_loss: 1.5772 - val_accuracy: 0.0000e+00\n",
      "Epoch 42/75\n",
      "14/14 [==============================] - 0s 6ms/step - loss: 1.0531 - accuracy: 0.7259 - val_loss: 1.5792 - val_accuracy: 0.0000e+00\n",
      "Epoch 43/75\n",
      "14/14 [==============================] - 0s 5ms/step - loss: 1.0481 - accuracy: 0.7111 - val_loss: 1.5728 - val_accuracy: 0.0000e+00\n",
      "Epoch 44/75\n",
      "14/14 [==============================] - 0s 4ms/step - loss: 1.0420 - accuracy: 0.7407 - val_loss: 1.5964 - val_accuracy: 0.0000e+00\n",
      "Epoch 45/75\n",
      "14/14 [==============================] - 0s 4ms/step - loss: 1.0359 - accuracy: 0.7407 - val_loss: 1.5763 - val_accuracy: 0.0000e+00\n",
      "Epoch 46/75\n",
      "14/14 [==============================] - 0s 4ms/step - loss: 1.0288 - accuracy: 0.7407 - val_loss: 1.5694 - val_accuracy: 0.0000e+00\n",
      "Epoch 47/75\n",
      "14/14 [==============================] - 0s 4ms/step - loss: 1.0227 - accuracy: 0.7407 - val_loss: 1.5652 - val_accuracy: 0.0000e+00\n",
      "Epoch 48/75\n",
      "14/14 [==============================] - 0s 4ms/step - loss: 1.0153 - accuracy: 0.7407 - val_loss: 1.5580 - val_accuracy: 0.0000e+00\n",
      "Epoch 49/75\n",
      "14/14 [==============================] - 0s 4ms/step - loss: 1.0079 - accuracy: 0.7407 - val_loss: 1.5534 - val_accuracy: 0.0000e+00\n",
      "Epoch 50/75\n",
      "14/14 [==============================] - 0s 5ms/step - loss: 1.0007 - accuracy: 0.7407 - val_loss: 1.5440 - val_accuracy: 0.0000e+00\n",
      "Epoch 51/75\n",
      "14/14 [==============================] - 0s 4ms/step - loss: 0.9927 - accuracy: 0.7407 - val_loss: 1.5223 - val_accuracy: 0.0000e+00\n",
      "Epoch 52/75\n",
      "14/14 [==============================] - 0s 5ms/step - loss: 0.9838 - accuracy: 0.7407 - val_loss: 1.5251 - val_accuracy: 0.0000e+00\n",
      "Epoch 53/75\n",
      "14/14 [==============================] - 0s 5ms/step - loss: 0.9748 - accuracy: 0.7407 - val_loss: 1.5210 - val_accuracy: 0.0000e+00\n",
      "Epoch 54/75\n",
      "14/14 [==============================] - 0s 4ms/step - loss: 0.9652 - accuracy: 0.7407 - val_loss: 1.5284 - val_accuracy: 0.0000e+00\n",
      "Epoch 55/75\n",
      "14/14 [==============================] - 0s 5ms/step - loss: 0.9543 - accuracy: 0.7407 - val_loss: 1.5102 - val_accuracy: 0.0000e+00\n",
      "Epoch 56/75\n",
      "14/14 [==============================] - 0s 4ms/step - loss: 0.9418 - accuracy: 0.7407 - val_loss: 1.4815 - val_accuracy: 0.0000e+00\n",
      "Epoch 57/75\n",
      "14/14 [==============================] - 0s 5ms/step - loss: 0.9275 - accuracy: 0.7407 - val_loss: 1.4671 - val_accuracy: 0.0000e+00\n",
      "Epoch 58/75\n",
      "14/14 [==============================] - 0s 5ms/step - loss: 0.9137 - accuracy: 0.7407 - val_loss: 1.4454 - val_accuracy: 0.0000e+00\n",
      "Epoch 59/75\n",
      "14/14 [==============================] - 0s 4ms/step - loss: 0.8985 - accuracy: 0.7407 - val_loss: 1.4278 - val_accuracy: 0.0000e+00\n",
      "Epoch 60/75\n",
      "14/14 [==============================] - 0s 4ms/step - loss: 0.8868 - accuracy: 0.7407 - val_loss: 1.4059 - val_accuracy: 0.0000e+00\n",
      "Epoch 61/75\n",
      "14/14 [==============================] - 0s 4ms/step - loss: 0.8763 - accuracy: 0.7407 - val_loss: 1.3999 - val_accuracy: 0.0000e+00\n",
      "Epoch 62/75\n",
      "14/14 [==============================] - 0s 4ms/step - loss: 0.8650 - accuracy: 0.7407 - val_loss: 1.3731 - val_accuracy: 0.0000e+00\n",
      "Epoch 63/75\n",
      "14/14 [==============================] - 0s 8ms/step - loss: 0.8548 - accuracy: 0.7407 - val_loss: 1.3547 - val_accuracy: 0.0000e+00\n",
      "Epoch 64/75\n",
      "14/14 [==============================] - 0s 4ms/step - loss: 0.8454 - accuracy: 0.7407 - val_loss: 1.3367 - val_accuracy: 0.0000e+00\n",
      "Epoch 65/75\n",
      "14/14 [==============================] - 0s 4ms/step - loss: 0.8353 - accuracy: 0.7407 - val_loss: 1.3267 - val_accuracy: 0.0000e+00\n",
      "Epoch 66/75\n",
      "14/14 [==============================] - 0s 4ms/step - loss: 0.8263 - accuracy: 0.7407 - val_loss: 1.3202 - val_accuracy: 0.0000e+00\n",
      "Epoch 67/75\n",
      "14/14 [==============================] - 0s 4ms/step - loss: 0.8171 - accuracy: 0.7407 - val_loss: 1.3102 - val_accuracy: 0.0000e+00\n",
      "Epoch 68/75\n",
      "14/14 [==============================] - 0s 4ms/step - loss: 0.8092 - accuracy: 0.7407 - val_loss: 1.2943 - val_accuracy: 0.0000e+00\n",
      "Epoch 69/75\n",
      "14/14 [==============================] - 0s 4ms/step - loss: 0.7996 - accuracy: 0.7407 - val_loss: 1.2848 - val_accuracy: 0.0000e+00\n",
      "Epoch 70/75\n",
      "14/14 [==============================] - 0s 4ms/step - loss: 0.7916 - accuracy: 0.7407 - val_loss: 1.2787 - val_accuracy: 0.0000e+00\n",
      "Epoch 71/75\n",
      "14/14 [==============================] - 0s 4ms/step - loss: 0.7832 - accuracy: 0.7407 - val_loss: 1.2795 - val_accuracy: 0.0000e+00\n",
      "Epoch 72/75\n",
      "14/14 [==============================] - 0s 4ms/step - loss: 0.7757 - accuracy: 0.7407 - val_loss: 1.2625 - val_accuracy: 0.0000e+00\n",
      "Epoch 73/75\n",
      "14/14 [==============================] - 0s 3ms/step - loss: 0.7673 - accuracy: 0.7407 - val_loss: 1.2580 - val_accuracy: 0.0000e+00\n",
      "Epoch 74/75\n",
      "14/14 [==============================] - 0s 4ms/step - loss: 0.7600 - accuracy: 0.7407 - val_loss: 1.2533 - val_accuracy: 0.0000e+00\n",
      "Epoch 75/75\n",
      "14/14 [==============================] - 0s 4ms/step - loss: 0.7528 - accuracy: 0.7407 - val_loss: 1.2494 - val_accuracy: 0.0000e+00\n"
     ]
    }
   ],
   "source": [
    "f = model.fit(X, dummy_y, epochs=75, batch_size=10, validation_split=0.1)"
   ]
  },
  {
   "cell_type": "markdown",
   "id": "b458fc74-75bd-46e7-b6be-3c3c51766151",
   "metadata": {
    "tags": []
   },
   "source": [
    "В процессе обучения отображаются четыре величины: потери сети на обучающих данных\n",
    "и точность сети на обучающих данных, а также потери и точность на данных, не\n",
    "участвовавших в обучении."
   ]
  },
  {
   "cell_type": "code",
   "execution_count": 17,
   "id": "f59a3bae-0b3f-40fe-bd72-64a5ac2e771b",
   "metadata": {
    "tags": []
   },
   "outputs": [
    {
     "data": {
      "text/plain": [
       "[<matplotlib.lines.Line2D at 0x259ec80b460>]"
      ]
     },
     "execution_count": 17,
     "metadata": {},
     "output_type": "execute_result"
    },
    {
     "data": {
      "image/png": "[encoded data removed]",
      "text/plain": [
       "<Figure size 432x288 with 1 Axes>"
      ]
     },
     "metadata": {
      "needs_background": "light"
     },
     "output_type": "display_data"
    }
   ],
   "source": [
    "plt.gca().set(xlabel='Ошибки', ylabel='Точность')\n",
    "plt.plot(f.history['loss'],f.history['accuracy'])"
   ]
  },
  {
   "cell_type": "code",
   "execution_count": null,
   "id": "e82f82ce-731d-48ae-b953-f219832c70cb",
   "metadata": {},
   "outputs": [],
   "source": []
  }
 ],
 "metadata": {
  "kernelspec": {
   "display_name": "Python 3 (ipykernel)",
   "language": "python",
   "name": "python3"
  },
  "language_info": {
   "codemirror_mode": {
    "name": "ipython",
    "version": 3
   },
   "file_extension": ".py",
   "mimetype": "text/x-python",
   "name": "python",
   "nbconvert_exporter": "python",
   "pygments_lexer": "ipython3",
   "version": "3.10.0"
  }
 },
 "nbformat": 4,
 "nbformat_minor": 5
}
